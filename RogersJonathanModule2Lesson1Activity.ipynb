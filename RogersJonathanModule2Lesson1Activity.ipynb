{
  "nbformat": 4,
  "nbformat_minor": 0,
  "metadata": {
    "anaconda-cloud": {},
    "kernelspec": {
      "name": "python3",
      "display_name": "Python 3",
      "language": "python"
    },
    "language_info": {
      "mimetype": "text/x-python",
      "nbconvert_exporter": "python",
      "name": "python",
      "pygments_lexer": "ipython3",
      "version": "3.5.4",
      "file_extension": ".py",
      "codemirror_mode": {
        "version": 3,
        "name": "ipython"
      }
    },
    "colab": {
      "name": "RogersJonathanModule2Lesson1Activity",
      "provenance": [],
      "collapsed_sections": [],
      "include_colab_link": true
    }
  },
  "cells": [
    {
      "cell_type": "markdown",
      "metadata": {
        "id": "view-in-github",
        "colab_type": "text"
      },
      "source": [
        "<a href=\"https://colab.research.google.com/github/jonathan-rogers-dev/testing-website/blob/master/RogersJonathanModule2Lesson1Activity.ipynb\" target=\"_parent\"><img src=\"https://colab.research.google.com/assets/colab-badge.svg\" alt=\"Open In Colab\"/></a>"
      ]
    },
    {
      "cell_type": "code",
      "metadata": {
        "id": "YdZTNkKjESEh"
      },
      "source": [
        "#  Jonathan Rogers | 8/31/2021\n",
        "#  During this lesson, I learned how to add a code/text cell, edit a code/text cell, run a code cell, clear (code) cell outputs, create a comment, and use print().\n",
        "#  During this lesson, I didn't have many difficulties but at first, when opening the Notebook, the information was somewhat overwhelming. I already know some Python and I have used Markdown extensively so that was not difficult for me."
      ],
      "execution_count": null,
      "outputs": []
    },
    {
      "cell_type": "markdown",
      "metadata": {
        "id": "fTowkkMb4jci"
      },
      "source": [
        "# Module Two Lesson One Practice Activity\n",
        "##  Getting Started with Python in Jupyter Notebooks\n",
        "- **Python 3 in Jupyter notebooks - Azure vs Google Collaboratory**\n",
        "- **`print()`**\n",
        "- **Comments** \n",
        "- Data types basics\n",
        "- Variables\n",
        "- Addition with Strings and Integers \n",
        "- Errors\n",
        "- Character art  \n",
        "\n",
        "-----\n",
        "\n",
        "### Students will be able to\n",
        "- **Use Python 3 in Jupyter notebooks**  \n",
        "- **Write working code using `print()` and `#` comments**  \n",
        "- Combine Strings using string addition (`+`)\n",
        "- Add numbers in code (`+`) \n",
        "- Troubleshoot errors\n",
        "- Create character art\n",
        "\n",
        "#### Before submission: Remember you need to add descriptive comments in each cell (examples AND tasks) that explains what your code is doing.  "
      ]
    },
    {
      "cell_type": "markdown",
      "metadata": {
        "id": "yBTKl5S64jcj"
      },
      "source": [
        "## Concept: Hello World! - Python `print()` Statement\n",
        "Using code to write \"Hello World!\" on the screen is the traditional first program when learning a new language in computer science.\n",
        "\n",
        "Python has a very simple implementation: \n",
        "```Python\n",
        "print(\"Hello World!\")\n",
        "```  "
      ]
    },
    {
      "cell_type": "markdown",
      "metadata": {
        "id": "1P3lNE504jcj"
      },
      "source": [
        "## \"Hello World!\" \n",
        "\n",
        "**IMPORTANT NOTE:** When this course was created we used Microsoft Azure to run our Jupyter notebooks.  Azure is no longer available for free :-(.  For this course we will now use Google Collaboratory to run our Jupyter Notebook files. \n",
        "\n",
        "All specific directions that needed to be updated have been updated. These programs are very similar and the majority of the videos in this course show the code in Azure. You should have no issue, however, working in Collaboratory.  The main difference is in the Menu. \n",
        "\n",
        "![M2L1_Menu.PNG](attachment:M2L1_Menu.PNG)\n",
        "\n",
        "Think of it like the difference between driving a Ford Escape and driving a Toyota Highlander.  Controls may look a little different or be in a slightly different location, but it is still driving. \n",
        "\n",
        "![M2L1_SUV.PNG](attachment:M2L1_SUV.PNG)\n",
        "\n",
        "Let's use the Hello World Video to show you the difference:\n",
        "\n",
        "Video rerecorded using Google Collaboratory(this is the one to watch)\n",
        "[![view video](https://iajupyterprodblobs.blob.core.windows.net/imagecontainer/common/play_video.png)](https://ncvps.yuja.com/V/Video?v=1363932&node=5093512&a=2070860496&autoplay=1)\n",
        "\n",
        "Original Video using Azure Notebooks(no requirement to watch - just in case you are interested)\n",
        "[![view video](https://iajupyterprodblobs.blob.core.windows.net/imagecontainer/common/play_video.png)]( http://edxinteractivepage.blob.core.windows.net/edxpages/f7cff1a7-5601-48a1-95a6-fd1fdfabd20e.html?details=[{\"src\":\"http://jupyternootbookwams.streaming.mediaservices.windows.net/6f5784c6-eece-4dfe-a14e-9dcf6ee81a7f/Unit1_Section1.1-Hello_World.ism/manifest\",\"type\":\"application/vnd.ms-sstr+xml\"}],[{\"src\":\"http://jupyternootbookwams.streaming.mediaservices.windows.net/6f5784c6-eece-4dfe-a14e-9dcf6ee81a7f/Unit1_Section1.1-Hello_World.vtt\",\"srclang\":\"en\",\"kind\":\"subtitles\",\"label\":\"english\"}])\n",
        "\n",
        "Regardless of which platform you use, our \"Hello World!\" program works because this notebook hosts a Python interpreter that can run Python code cells.   \n",
        "\n",
        "Try showing:\n",
        "```Python \n",
        "\"Hello students!\" \n",
        "``` \n",
        "Enter new text inside the quotations in the cell below. Click on the cell to edit the code. \n",
        "\n",
        "What happens if any part of  `print`  is capitalized or what happens there are no quotation marks around the greeting?\n",
        "\n",
        "## Methods for running the code in a cell\n",
        "1. **Click in the cell below** and **press \"Ctrl+Enter\"** to run the code.  \n",
        "2. **Click in the cell below** and **press \"Shift+Enter\"** to run the code and move to the next cell.  \n",
        "3. **Menu: Runtime**...  \n",
        "  a. **&gt; Run the focused cell** runs the highlighted cell(s).  \n",
        "  b. **&gt; Run All** runs all the cells.  \n",
        "  c. **&gt; Run Before** runs all cells before the highlighted cell. \n",
        "  \n",
        "  d. **&gt; Run After** runs all cells after the highlighted cell."
      ]
    },
    {
      "cell_type": "markdown",
      "metadata": {
        "id": "bKmFuO6f4jck"
      },
      "source": [
        "### Example"
      ]
    },
    {
      "cell_type": "code",
      "metadata": {
        "trusted": false,
        "id": "SQqPkjHj4jck"
      },
      "source": [
        "# [ ] Review the code, run the code\n",
        "print(\"Hello world\")"
      ],
      "execution_count": null,
      "outputs": []
    },
    {
      "cell_type": "markdown",
      "metadata": {
        "id": "jW-Ybpgg4jcl"
      },
      "source": [
        "## Concept: Comments\n",
        "[![view video](https://iajupyterprodblobs.blob.core.windows.net/imagecontainer/common/play_video.png)]( http://edxinteractivepage.blob.core.windows.net/edxpages/f7cff1a7-5601-48a1-95a6-fd1fdfabd20e.html?details=[{\"src\":\"http://jupyternootbookwams.streaming.mediaservices.windows.net/34e2afb1-d07a-44ca-8860-bba1a5476caa/Unit1_Section1.1-Comments.ism/manifest\",\"type\":\"application/vnd.ms-sstr+xml\"}],[{\"src\":\"http://jupyternootbookwams.streaming.mediaservices.windows.net/34e2afb1-d07a-44ca-8860-bba1a5476caa/Unit1_Section1.1-Comments.vtt\",\"srclang\":\"en\",\"kind\":\"subtitles\",\"label\":\"english\"}])\n",
        "When coding, programmers include comments for explanation of how code works for reminders and to help others who encounter the code.\n",
        "### Comments start with the  `#`  symbol"
      ]
    },
    {
      "cell_type": "markdown",
      "metadata": {
        "id": "Vhr4IS0o4jcl"
      },
      "source": [
        "### Example"
      ]
    },
    {
      "cell_type": "code",
      "metadata": {
        "trusted": false,
        "id": "KIntP7E14jcm"
      },
      "source": [
        "# This is how a comment looks in Python code\n",
        "# Every comment line starts with the # symbol"
      ],
      "execution_count": null,
      "outputs": []
    },
    {
      "cell_type": "markdown",
      "metadata": {
        "id": "38VZnh9s4jcm"
      },
      "source": [
        "## Task 1: Program: \"Hello World!\" with comment\n",
        "- Add a comment describing the code purpose\n",
        "- Create an original \"Hello World\" style message"
      ]
    },
    {
      "cell_type": "code",
      "metadata": {
        "trusted": false,
        "id": "DYDwAhJk4jcn"
      },
      "source": [
        "print(\"Hello Word\") # Displays the included phrase \"Hello World\" to the user."
      ],
      "execution_count": null,
      "outputs": []
    },
    {
      "cell_type": "markdown",
      "metadata": {
        "id": "4u6nEcnB4jcn"
      },
      "source": [
        "## Concept: Notebooks\n",
        "Jupyter Notebooks provide a balance of jotting down important summary information(Markdown/Text Cells) along with providing a live code development environment where we can write and run Python code(Code Cells).  This course uses cloud hosted Jupyter [Notebooks](https://colab.research.google.com) on Google Collaboratory and we will walk through the basics and some best practices for notebook use. \n",
        "\n",
        "### Work in notebook cells  \n",
        "- **Markdown or Text cells** display text in a web page format. Markdown is code that formats the way the cell displays (*this cell is a Markdown or Text cell*).\n",
        "   \n",
        "- **Code cells** contain Python code and can be interpreted and run from a cell. Code cells display code and output.  \n",
        "   \n",
        "- **In edit** or **previously run:** cells can display in editing mode or cells can display results of *code* having been run. \n",
        "  \n",
        "[![view video](https://iajupyterprodblobs.blob.core.windows.net/imagecontainer/common/play_video.png)](https://ncvps.yuja.com/V/Video?v=1364047&node=5093744&a=1465599171&autoplay=1)\n",
        " \n",
        "### Edit mode  \n",
        "- **Text** cells in editing mode show markdown code.\n",
        "- Markdown cells keep editing mode appearance until the cell is run.\n",
        "- **Code** (Python 3) cells in editing look the same after editing, but may show different run output.\n",
        "- Clicking another cell moves the highlight and the play button that indicates which cell has active editing focus. \n",
        "  \n",
        "### Cells need to be saved\n",
        "- The notebook will frequently autosave.\n",
        "- **Best practice** is to manually save after editing a cell using **\"Ctrl + S\"** or alternatively, **Menu: File &gt; Save **.\n"
      ]
    },
    {
      "cell_type": "markdown",
      "metadata": {
        "id": "OykAeY1p4jco"
      },
      "source": [
        "## Concept: Altering Notebook Structure\n",
        "[![view video](https://iajupyterprodblobs.blob.core.windows.net/imagecontainer/common/play_video.png)](https://ncvps.yuja.com/V/Video?v=1364099&node=5093878&a=1818351971&autoplay=1)\n",
        "### Add a cell below the cell you are in\n",
        "- Highlight any cell and then... add a new cell using **Menu: Insert &gt; Code Cell** or **Insert Text Cell**.\n",
        "- Click +Code or +Text under the the Menu bar\n",
        "\n",
        "### Add a cell anywhere in the notebook\n",
        "- Collaboratory makes it even easier to add a cell, just hover where you want the cell to go and `+Code` or `+Text` appear and you can click to add that type of cell.   \n",
        "\n",
        "### Clear all outputs\n",
        "- If you want to clear the output and start over, You do that by clicking Edit > Clear all outputs.  \n",
        "- **Note:** this doesn’t clear any editing you have done, just puts all of the previously run code back to a starting point so there are no variables in memory.\n",
        "- There we have a fresh start! \n"
      ]
    },
    {
      "cell_type": "code",
      "metadata": {
        "id": "7cFX3tqA6PNx"
      },
      "source": [
        "from google.colab import drive\n",
        "drive.mount('/content/drive')"
      ],
      "execution_count": null,
      "outputs": []
    },
    {
      "cell_type": "code",
      "metadata": {
        "id": "VH-cKX-_AoOy"
      },
      "source": [
        "# I added a new Code Cell!"
      ],
      "execution_count": null,
      "outputs": []
    },
    {
      "cell_type": "markdown",
      "metadata": {
        "id": "0y0r4Nby4jco"
      },
      "source": [
        "## Task 2: Insert a new cell\n",
        "-  Insert a new Code cell below \n",
        "-  Edit the cell: add print() with the message \"after edit, save!\"\n",
        "-  Run the cell.\n",
        "-  Before submission: Remember you always need to add descriptive comments(starting with a #) in the same cell right before your code that explains what your code is doing.\n"
      ]
    },
    {
      "cell_type": "code",
      "metadata": {
        "id": "RRvECeJWBTGK"
      },
      "source": [
        "# Displays \"after edit, save!\" to the user.\n",
        "print(\"after edit, save!\")"
      ],
      "execution_count": null,
      "outputs": []
    },
    {
      "cell_type": "markdown",
      "metadata": {
        "id": "AdDZv96Z4jco"
      },
      "source": [
        "## Task 3: Insert another new cell\n",
        "- Insert a new Code cell below.\n",
        "- Edit the cell: add print() with the message showing the keyboard Shortcut to save **Ctrl + S**.\n",
        "- Run the cell\n",
        "- Before submission: Remember you always need to add descriptive comments(starting with a #) in the same cell right before your code that explains what your code is doing.\n"
      ]
    },
    {
      "cell_type": "code",
      "metadata": {
        "id": "GuzALupTBfOv"
      },
      "source": [
        "# Displays to the user the proper way to Save using the keyboard.\n",
        "print(\"To save, use the keyboard Shortcut 'Ctrl + S'\")"
      ],
      "execution_count": null,
      "outputs": []
    },
    {
      "cell_type": "markdown",
      "metadata": {
        "id": "tRBpJ9Ts4jcp"
      },
      "source": [
        "[Terms of use](http://go.microsoft.com/fwlink/?LinkID=206977)   [Privacy &amp; cookies](https://go.microsoft.com/fwlink/?LinkId=521839)   © 2017 Microsoft"
      ]
    }
  ]
}